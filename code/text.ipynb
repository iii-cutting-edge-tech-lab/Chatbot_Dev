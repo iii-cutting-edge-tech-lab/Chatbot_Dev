{
 "cells": [
  {
   "cell_type": "code",
   "execution_count": 1,
   "metadata": {},
   "outputs": [
    {
     "name": "stdout",
     "output_type": "stream",
     "text": [
      "connect sucess!!\n"
     ]
    }
   ],
   "source": [
    "#製作flask環境\n",
    "from flask import Flask, request, jsonify\n",
    "import datetime\n",
    "\n",
    "\n",
    "app = Flask(__name__)\n",
    "#建立與mysql的連線\n",
    "import pymysql\n",
    "\n",
    "conn = pymysql.connect(host='chatbot_db', port=3306, user='root', passwd='iii', db='chatbot_db',charset='utf8mb4')\n",
    "print(\"connect sucess!!\")\n",
    "\n",
    "cur = conn.cursor()"
   ]
  },
  {
   "cell_type": "code",
   "execution_count": 2,
   "metadata": {},
   "outputs": [],
   "source": [
    "@app.route('/users/<userid>',methods=['GET'])\n",
    "def read_user(userid):\n",
    "    cur.execute(\n",
    "        'SELECT * FROM chatbot_db.users WHERE user_open_id = (\"%s\")', (userid,)\n",
    "        )\n",
    "    user = cur.fetchone()\n",
    "    if user is not None:\n",
    "        #格式跟db內一樣舊部改了，只轉檔\n",
    "        return jsonify(user)\n",
    "    else:\n",
    "        result = {\n",
    "            \"status_describe\":\"Please enter the right id!!\"\n",
    "        }\n",
    "        return jsonify(result)"
   ]
  },
  {
   "cell_type": "code",
   "execution_count": 1,
   "metadata": {},
   "outputs": [
    {
     "ename": "NameError",
     "evalue": "name 'cur' is not defined",
     "output_type": "error",
     "traceback": [
      "\u001b[0;31m---------------------------------------------------------------------------\u001b[0m",
      "\u001b[0;31mNameError\u001b[0m                                 Traceback (most recent call last)",
      "\u001b[0;32m<ipython-input-1-13577e4f2bfd>\u001b[0m in \u001b[0;36m<module>\u001b[0;34m()\u001b[0m\n\u001b[1;32m     20\u001b[0m \u001b[0;34m\u001b[0m\u001b[0m\n\u001b[1;32m     21\u001b[0m     \u001b[0;32mreturn\u001b[0m \u001b[0manswer\u001b[0m\u001b[0;34m\u001b[0m\u001b[0m\n\u001b[0;32m---> 22\u001b[0;31m \u001b[0mread\u001b[0m\u001b[0;34m(\u001b[0m\u001b[0;34m)\u001b[0m\u001b[0;34m\u001b[0m\u001b[0m\n\u001b[0m",
      "\u001b[0;32m<ipython-input-1-13577e4f2bfd>\u001b[0m in \u001b[0;36mread\u001b[0;34m()\u001b[0m\n\u001b[1;32m      1\u001b[0m \u001b[0;32mdef\u001b[0m \u001b[0mread\u001b[0m\u001b[0;34m(\u001b[0m\u001b[0;34m)\u001b[0m\u001b[0;34m:\u001b[0m\u001b[0;34m\u001b[0m\u001b[0m\n\u001b[0;32m----> 2\u001b[0;31m     cur.execute(\n\u001b[0m\u001b[1;32m      3\u001b[0m         \u001b[0;34m'SELECT * FROM chatbot_db.users'\u001b[0m\u001b[0;34m\u001b[0m\u001b[0m\n\u001b[1;32m      4\u001b[0m         )\n\u001b[1;32m      5\u001b[0m     \u001b[0muser\u001b[0m \u001b[0;34m=\u001b[0m \u001b[0mcur\u001b[0m\u001b[0;34m.\u001b[0m\u001b[0mfetchall\u001b[0m\u001b[0;34m(\u001b[0m\u001b[0;34m)\u001b[0m\u001b[0;34m\u001b[0m\u001b[0m\n",
      "\u001b[0;31mNameError\u001b[0m: name 'cur' is not defined"
     ]
    }
   ],
   "source": [
    "def read():\n",
    "    cur.execute(\n",
    "        'SELECT * FROM chatbot_db.users'\n",
    "        )\n",
    "    user = cur.fetchall()\n",
    "    answer = []\n",
    "    for i in user:\n",
    "        result = {\n",
    "            \"user_open_id\":i[0],\n",
    "            \"user_nick_name\":i[1],\n",
    "            \"user_status\" : i[2],\n",
    "            \"user_img\" : i[3],\n",
    "            \"user_register_date\" : i[4],\n",
    "            \"user_register_menu\" : i[5]\n",
    "        }\n",
    "        answer.append(result)\n",
    "    \n",
    "    \n",
    "    \n",
    "    \n",
    "    return answer\n",
    "read()"
   ]
  },
  {
   "cell_type": "code",
   "execution_count": 18,
   "metadata": {},
   "outputs": [
    {
     "name": "stdout",
     "output_type": "stream",
     "text": [
      "[1]\n"
     ]
    }
   ],
   "source": [
    "a=[]\n",
    "a.append(1)\n",
    "print(a)"
   ]
  },
  {
   "cell_type": "code",
   "execution_count": 3,
   "metadata": {},
   "outputs": [],
   "source": [
    "def read_user(userid):\n",
    "    cur.execute(\n",
    "        'SELECT * FROM chatbot_db.users WHERE user_open_id = (\"%s\")' % (userid)\n",
    "        )\n",
    "    user = cur.fetchone()\n",
    "    return user"
   ]
  },
  {
   "cell_type": "code",
   "execution_count": 22,
   "metadata": {},
   "outputs": [
    {
     "data": {
      "text/plain": [
       "('abcDemo', 'yoyo', 'haha', 'https://ddascd', '201809070938', 'xxxxxxx')"
      ]
     },
     "execution_count": 22,
     "metadata": {},
     "output_type": "execute_result"
    }
   ],
   "source": [
    "a=\"abcDemo\"\n",
    "read_user(a)"
   ]
  },
  {
   "cell_type": "code",
   "execution_count": 8,
   "metadata": {},
   "outputs": [],
   "source": [
    "time = datetime.datetime.utcnow().strftime(\"%Y%m%d%H%M\")\n",
    "a={\n",
    "    \"user_open_id\":\"abco\",\n",
    "    \"user_nick_name\":\"yoyo\",\n",
    "    \"user_status\" : \"haha\",\n",
    "    \"user_img\" : \"https://ddascd\",\n",
    "    \"user_register_menu\" : \"xxxxxxx\"\n",
    "}\n",
    "insertsql=(\"INSERT INTO chatbot_db.users VALUES ( %s,%s,%s,%s,%s,%s )\") \n",
    "value = (a['user_open_id'],a['user_nick_name'],a['user_status'],a['user_img'],time,a['user_register_menu'])\n",
    "cur.execute(insertsql , value)\n",
    "result =  { \"status_describe\":\"success add user\" }"
   ]
  },
  {
   "cell_type": "code",
   "execution_count": 5,
   "metadata": {},
   "outputs": [],
   "source": [
    "time = datetime.datetime.utcnow().strftime(\"%Y%m%d%H%M\")\n",
    "a={\n",
    "    \"user_open_id\":\"abc\",\n",
    "    \"user_nick_name\":\"yoghjyo\",\n",
    "    \"user_status\" : \"haha\",\n",
    "    \"user_img\" : \"httpscd\",\n",
    "    \"user_register_menu\" : \"xxxxxx\"\n",
    "}\n",
    "insertsql=(\"INSERT INTO chatbot_db.users VALUES ( %s,%s,%s,%s,%s,%s )\") \n",
    "value = (a['user_open_id'],a['user_nick_name'],a['user_status'],a['user_img'],time,a['user_register_menu'])\n",
    "cur.execute(insertsql , value)\n",
    "result =  { \"status_describe\":\"success add user\" }"
   ]
  },
  {
   "cell_type": "code",
   "execution_count": null,
   "metadata": {},
   "outputs": [],
   "source": [
    "aaa = {\n",
    "        \"user1\":{\n",
    "        \"user_open_id\":\"abcDemo\",\n",
    "        \"user_nick_name\":\"yoyo\",\n",
    "        \"user_status\" : \"haha\",\n",
    "        \"user_img\" : \"https://ddascd\",\n",
    "        \"user_register_date\" :  153030394,\n",
    "        \"user_register_menu\" : \"xxxxxxx\"\n",
    "      },\n",
    "        \"user2\":{\n",
    "        \"user_open_id\":\"abcDemo\",\n",
    "        \"user_nick_name\":\"yoyo\",\n",
    "        \"user_status\" : \"haha\",\n",
    "        \"user_img\" : \"https://ddascd\",\n",
    "        \"user_register_date\" :  153030394,\n",
    "        \"user_register_menu\" : \"xxxxxxx\"\n",
    "    }\n",
    "}\n",
    "\n"
   ]
  },
  {
   "cell_type": "code",
   "execution_count": 16,
   "metadata": {},
   "outputs": [
    {
     "ename": "KeyError",
     "evalue": "'user_open_id'",
     "output_type": "error",
     "traceback": [
      "\u001b[0;31m---------------------------------------------------------------------------\u001b[0m",
      "\u001b[0;31mKeyError\u001b[0m                                  Traceback (most recent call last)",
      "\u001b[0;32m<ipython-input-16-2fa917125482>\u001b[0m in \u001b[0;36m<module>\u001b[0;34m()\u001b[0m\n\u001b[1;32m      5\u001b[0m     \u001b[0;34m\"user_register_menu\"\u001b[0m \u001b[0;34m:\u001b[0m \u001b[0;34m\"xxxxxxx\"\u001b[0m\u001b[0;34m\u001b[0m\u001b[0m\n\u001b[1;32m      6\u001b[0m }\n\u001b[0;32m----> 7\u001b[0;31m \u001b[0;32mif\u001b[0m \u001b[0;32mnot\u001b[0m \u001b[0ma\u001b[0m\u001b[0;34m[\u001b[0m\u001b[0;34m'user_open_id'\u001b[0m\u001b[0;34m]\u001b[0m\u001b[0;34m:\u001b[0m\u001b[0;34m\u001b[0m\u001b[0m\n\u001b[0m\u001b[1;32m      8\u001b[0m     \u001b[0mprint\u001b[0m\u001b[0;34m(\u001b[0m\u001b[0ma\u001b[0m\u001b[0;34m[\u001b[0m\u001b[0;34m'user_open_id'\u001b[0m\u001b[0;34m]\u001b[0m\u001b[0;34m)\u001b[0m\u001b[0;34m\u001b[0m\u001b[0m\n",
      "\u001b[0;31mKeyError\u001b[0m: 'user_open_id'"
     ]
    }
   ],
   "source": [
    "a={\n",
    "    \"user_nick_name\":\"yoyo\",\n",
    "    \"user_status\" : \"haha\",\n",
    "    \"user_img\" : \"https://ddascd\",\n",
    "    \"user_register_menu\" : \"xxxxxxx\"\n",
    "}\n",
    "if not a['user_open_id']:\n",
    "    print(a['user_open_id'])"
   ]
  }
 ],
 "metadata": {
  "kernelspec": {
   "display_name": "Python 3",
   "language": "python",
   "name": "python3"
  },
  "language_info": {
   "codemirror_mode": {
    "name": "ipython",
    "version": 3
   },
   "file_extension": ".py",
   "mimetype": "text/x-python",
   "name": "python",
   "nbconvert_exporter": "python",
   "pygments_lexer": "ipython3",
   "version": "3.6.5"
  }
 },
 "nbformat": 4,
 "nbformat_minor": 2
}
