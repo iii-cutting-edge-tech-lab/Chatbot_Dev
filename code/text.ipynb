{
 "cells": [
  {
   "cell_type": "code",
   "execution_count": 14,
   "metadata": {},
   "outputs": [
    {
     "name": "stdout",
     "output_type": "stream",
     "text": [
      "connect sucess!!\n"
     ]
    }
   ],
   "source": [
    "#製作flask環境\n",
    "from flask import Flask, request, jsonify\n",
    "import datetime\n",
    "\n",
    "\n",
    "app = Flask(__name__)\n",
    "#建立與mysql的連線\n",
    "import pymysql\n",
    "\n",
    "conn = pymysql.connect(host='chatbot_db', port=3306, user='root', passwd='iii', db='chatbot_db')\n",
    "print(\"connect sucess!!\")\n",
    "\n",
    "cur = conn.cursor()"
   ]
  },
  {
   "cell_type": "code",
   "execution_count": 20,
   "metadata": {},
   "outputs": [],
   "source": [
    "a = {\n",
    "    \"user_open_id\":\"abcDeo\",\n",
    "    \"user_nick_name\":\"yoyo\",\n",
    "    \"user_status\" : \"haha\",\n",
    "    \"user_img\" : \"https://ddascdsssssssssss\",\n",
    "    \"user_register_menu\" : \"xxxxxxx\"\n",
    "}"
   ]
  },
  {
   "cell_type": "code",
   "execution_count": 7,
   "metadata": {},
   "outputs": [
    {
     "data": {
      "text/plain": [
       "0"
      ]
     },
     "execution_count": 7,
     "metadata": {},
     "output_type": "execute_result"
    }
   ],
   "source": [
    "cur.execute(\"CREATE TABLE user (user_img varchar(255),user_register_date varchar(255),user_register_menu varchar(255))\")"
   ]
  },
  {
   "cell_type": "code",
   "execution_count": 19,
   "metadata": {},
   "outputs": [
    {
     "name": "stdout",
     "output_type": "stream",
     "text": [
      "(('123', 'chetser', 'asd', 'asd ', 'asdfa', 'asdasd'), ('12qwe3', 'chetser', 'asd', 'asd ', 'asdfa', 'asdasd'), ('abcDemo', 'chetser', 'qqqqqqqqqq', 'qqqqqqq', '201809110551', 'qqqqqqqqq'), ('ass', 'yoyoiiiiiiii', 'haha', 'https://ddascd', '201809110550', 'xxxxxxx'))\n"
     ]
    }
   ],
   "source": [
    "cur.execute('SELECT * FROM chatbot_db.users')\n",
    "#由於是多筆，使用fetchall\n",
    "user = cur.fetchall()\n",
    "print(user)"
   ]
  },
  {
   "cell_type": "code",
   "execution_count": 33,
   "metadata": {},
   "outputs": [
    {
     "name": "stdout",
     "output_type": "stream",
     "text": [
      "https://ddascdsssssssssss\n",
      "(('abcDemo', 'chetser', 'qqqqqqqqqq', 'https://ddascdsssssssssss', '201809110551', 'qqqqqqqqq'),)\n"
     ]
    }
   ],
   "source": [
    "userid='abcDemo'\n",
    "insertsql=('UPDATE users SET user_img=(\"%s\") WHERE user_open_id=(\"%s\")') % (a['user_img'],userid)\n",
    "print(a['user_img'])\n",
    "value = (a['user_img'],userid)\n",
    "cur.execute(insertsql)\n",
    "conn.commit()\n",
    "\n",
    "\n",
    "cur.execute('SELECT * FROM users WHERE user_open_id=\"abcDemo\"')\n",
    "#由於是多筆，使用fetchall\n",
    "user = cur.fetchall()\n",
    "print(user)"
   ]
  }
 ],
 "metadata": {
  "kernelspec": {
   "display_name": "Python 3",
   "language": "python",
   "name": "python3"
  },
  "language_info": {
   "codemirror_mode": {
    "name": "ipython",
    "version": 3
   },
   "file_extension": ".py",
   "mimetype": "text/x-python",
   "name": "python",
   "nbconvert_exporter": "python",
   "pygments_lexer": "ipython3",
   "version": "3.6.5"
  }
 },
 "nbformat": 4,
 "nbformat_minor": 2
}
